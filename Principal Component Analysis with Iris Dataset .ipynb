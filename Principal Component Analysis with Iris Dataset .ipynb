{
 "cells": [
  {
   "cell_type": "code",
   "execution_count": 23,
   "metadata": {},
   "outputs": [],
   "source": [
    "import pandas as pd\n",
    "import matplotlib.pyplot as plt\n",
    "import numpy as np\n",
    "import seaborn as sns"
   ]
  },
  {
   "cell_type": "code",
   "execution_count": 24,
   "metadata": {},
   "outputs": [],
   "source": [
    "plt.style.use(\"ggplot\")\n",
    "plt.rcParams[\"figure.figsize\"] = (12,8)"
   ]
  },
  {
   "cell_type": "markdown",
   "metadata": {},
   "source": [
    "Reading the Dataset"
   ]
  },
  {
   "cell_type": "code",
   "execution_count": 47,
   "metadata": {},
   "outputs": [
    {
     "data": {
      "text/html": [
       "<div>\n",
       "<style scoped>\n",
       "    .dataframe tbody tr th:only-of-type {\n",
       "        vertical-align: middle;\n",
       "    }\n",
       "\n",
       "    .dataframe tbody tr th {\n",
       "        vertical-align: top;\n",
       "    }\n",
       "\n",
       "    .dataframe thead th {\n",
       "        text-align: right;\n",
       "    }\n",
       "</style>\n",
       "<table border=\"1\" class=\"dataframe\">\n",
       "  <thead>\n",
       "    <tr style=\"text-align: right;\">\n",
       "      <th></th>\n",
       "      <th>number_people</th>\n",
       "      <th>timestamp</th>\n",
       "      <th>day_of_week</th>\n",
       "      <th>is_weekend</th>\n",
       "      <th>is_holiday</th>\n",
       "      <th>temperature</th>\n",
       "      <th>is_start_of_semester</th>\n",
       "      <th>is_during_semester</th>\n",
       "      <th>month</th>\n",
       "      <th>hour</th>\n",
       "    </tr>\n",
       "  </thead>\n",
       "  <tbody>\n",
       "    <tr>\n",
       "      <th>count</th>\n",
       "      <td>62184.000000</td>\n",
       "      <td>62184.000000</td>\n",
       "      <td>62184.000000</td>\n",
       "      <td>62184.000000</td>\n",
       "      <td>62184.000000</td>\n",
       "      <td>62184.000000</td>\n",
       "      <td>62184.000000</td>\n",
       "      <td>62184.000000</td>\n",
       "      <td>62184.000000</td>\n",
       "      <td>62184.000000</td>\n",
       "    </tr>\n",
       "    <tr>\n",
       "      <th>mean</th>\n",
       "      <td>29.072543</td>\n",
       "      <td>45799.437958</td>\n",
       "      <td>2.982504</td>\n",
       "      <td>0.282870</td>\n",
       "      <td>0.002573</td>\n",
       "      <td>58.557108</td>\n",
       "      <td>0.078831</td>\n",
       "      <td>0.660218</td>\n",
       "      <td>7.439824</td>\n",
       "      <td>12.236460</td>\n",
       "    </tr>\n",
       "    <tr>\n",
       "      <th>std</th>\n",
       "      <td>22.689026</td>\n",
       "      <td>24211.275891</td>\n",
       "      <td>1.996825</td>\n",
       "      <td>0.450398</td>\n",
       "      <td>0.050660</td>\n",
       "      <td>6.316396</td>\n",
       "      <td>0.269476</td>\n",
       "      <td>0.473639</td>\n",
       "      <td>3.445069</td>\n",
       "      <td>6.717631</td>\n",
       "    </tr>\n",
       "    <tr>\n",
       "      <th>min</th>\n",
       "      <td>0.000000</td>\n",
       "      <td>0.000000</td>\n",
       "      <td>0.000000</td>\n",
       "      <td>0.000000</td>\n",
       "      <td>0.000000</td>\n",
       "      <td>38.140000</td>\n",
       "      <td>0.000000</td>\n",
       "      <td>0.000000</td>\n",
       "      <td>1.000000</td>\n",
       "      <td>0.000000</td>\n",
       "    </tr>\n",
       "    <tr>\n",
       "      <th>25%</th>\n",
       "      <td>9.000000</td>\n",
       "      <td>26624.000000</td>\n",
       "      <td>1.000000</td>\n",
       "      <td>0.000000</td>\n",
       "      <td>0.000000</td>\n",
       "      <td>55.000000</td>\n",
       "      <td>0.000000</td>\n",
       "      <td>0.000000</td>\n",
       "      <td>5.000000</td>\n",
       "      <td>7.000000</td>\n",
       "    </tr>\n",
       "    <tr>\n",
       "      <th>50%</th>\n",
       "      <td>28.000000</td>\n",
       "      <td>46522.500000</td>\n",
       "      <td>3.000000</td>\n",
       "      <td>0.000000</td>\n",
       "      <td>0.000000</td>\n",
       "      <td>58.340000</td>\n",
       "      <td>0.000000</td>\n",
       "      <td>1.000000</td>\n",
       "      <td>8.000000</td>\n",
       "      <td>12.000000</td>\n",
       "    </tr>\n",
       "    <tr>\n",
       "      <th>75%</th>\n",
       "      <td>43.000000</td>\n",
       "      <td>66612.000000</td>\n",
       "      <td>5.000000</td>\n",
       "      <td>1.000000</td>\n",
       "      <td>0.000000</td>\n",
       "      <td>62.280000</td>\n",
       "      <td>0.000000</td>\n",
       "      <td>1.000000</td>\n",
       "      <td>10.000000</td>\n",
       "      <td>18.000000</td>\n",
       "    </tr>\n",
       "    <tr>\n",
       "      <th>max</th>\n",
       "      <td>145.000000</td>\n",
       "      <td>86399.000000</td>\n",
       "      <td>6.000000</td>\n",
       "      <td>1.000000</td>\n",
       "      <td>1.000000</td>\n",
       "      <td>87.170000</td>\n",
       "      <td>1.000000</td>\n",
       "      <td>1.000000</td>\n",
       "      <td>12.000000</td>\n",
       "      <td>23.000000</td>\n",
       "    </tr>\n",
       "  </tbody>\n",
       "</table>\n",
       "</div>"
      ],
      "text/plain": [
       "       number_people     timestamp   day_of_week    is_weekend    is_holiday  \\\n",
       "count   62184.000000  62184.000000  62184.000000  62184.000000  62184.000000   \n",
       "mean       29.072543  45799.437958      2.982504      0.282870      0.002573   \n",
       "std        22.689026  24211.275891      1.996825      0.450398      0.050660   \n",
       "min         0.000000      0.000000      0.000000      0.000000      0.000000   \n",
       "25%         9.000000  26624.000000      1.000000      0.000000      0.000000   \n",
       "50%        28.000000  46522.500000      3.000000      0.000000      0.000000   \n",
       "75%        43.000000  66612.000000      5.000000      1.000000      0.000000   \n",
       "max       145.000000  86399.000000      6.000000      1.000000      1.000000   \n",
       "\n",
       "        temperature  is_start_of_semester  is_during_semester         month  \\\n",
       "count  62184.000000          62184.000000        62184.000000  62184.000000   \n",
       "mean      58.557108              0.078831            0.660218      7.439824   \n",
       "std        6.316396              0.269476            0.473639      3.445069   \n",
       "min       38.140000              0.000000            0.000000      1.000000   \n",
       "25%       55.000000              0.000000            0.000000      5.000000   \n",
       "50%       58.340000              0.000000            1.000000      8.000000   \n",
       "75%       62.280000              0.000000            1.000000     10.000000   \n",
       "max       87.170000              1.000000            1.000000     12.000000   \n",
       "\n",
       "               hour  \n",
       "count  62184.000000  \n",
       "mean      12.236460  \n",
       "std        6.717631  \n",
       "min        0.000000  \n",
       "25%        7.000000  \n",
       "50%       12.000000  \n",
       "75%       18.000000  \n",
       "max       23.000000  "
      ]
     },
     "execution_count": 47,
     "metadata": {},
     "output_type": "execute_result"
    }
   ],
   "source": [
    "df = pd.read_csv(r'C:\\Users\\nuret\\Desktop\\data.csv')\n",
    "df.drop('date',axis=1,inplace=True)\n",
    "df.describe()"
   ]
  },
  {
   "cell_type": "code",
   "execution_count": 50,
   "metadata": {},
   "outputs": [
    {
     "data": {
      "text/html": [
       "<div>\n",
       "<style scoped>\n",
       "    .dataframe tbody tr th:only-of-type {\n",
       "        vertical-align: middle;\n",
       "    }\n",
       "\n",
       "    .dataframe tbody tr th {\n",
       "        vertical-align: top;\n",
       "    }\n",
       "\n",
       "    .dataframe thead th {\n",
       "        text-align: right;\n",
       "    }\n",
       "</style>\n",
       "<table border=\"1\" class=\"dataframe\">\n",
       "  <thead>\n",
       "    <tr style=\"text-align: right;\">\n",
       "      <th></th>\n",
       "      <th>timestamp</th>\n",
       "      <th>day_of_week</th>\n",
       "      <th>is_weekend</th>\n",
       "      <th>is_holiday</th>\n",
       "      <th>temperature</th>\n",
       "      <th>is_start_of_semester</th>\n",
       "      <th>is_during_semester</th>\n",
       "    </tr>\n",
       "  </thead>\n",
       "  <tbody>\n",
       "    <tr>\n",
       "      <th>0</th>\n",
       "      <td>61211</td>\n",
       "      <td>4</td>\n",
       "      <td>0</td>\n",
       "      <td>0</td>\n",
       "      <td>71.76</td>\n",
       "      <td>0</td>\n",
       "      <td>0</td>\n",
       "    </tr>\n",
       "    <tr>\n",
       "      <th>1</th>\n",
       "      <td>62414</td>\n",
       "      <td>4</td>\n",
       "      <td>0</td>\n",
       "      <td>0</td>\n",
       "      <td>71.76</td>\n",
       "      <td>0</td>\n",
       "      <td>0</td>\n",
       "    </tr>\n",
       "    <tr>\n",
       "      <th>2</th>\n",
       "      <td>63015</td>\n",
       "      <td>4</td>\n",
       "      <td>0</td>\n",
       "      <td>0</td>\n",
       "      <td>71.76</td>\n",
       "      <td>0</td>\n",
       "      <td>0</td>\n",
       "    </tr>\n",
       "    <tr>\n",
       "      <th>3</th>\n",
       "      <td>63616</td>\n",
       "      <td>4</td>\n",
       "      <td>0</td>\n",
       "      <td>0</td>\n",
       "      <td>71.76</td>\n",
       "      <td>0</td>\n",
       "      <td>0</td>\n",
       "    </tr>\n",
       "    <tr>\n",
       "      <th>4</th>\n",
       "      <td>64217</td>\n",
       "      <td>4</td>\n",
       "      <td>0</td>\n",
       "      <td>0</td>\n",
       "      <td>71.76</td>\n",
       "      <td>0</td>\n",
       "      <td>0</td>\n",
       "    </tr>\n",
       "    <tr>\n",
       "      <th>...</th>\n",
       "      <td>...</td>\n",
       "      <td>...</td>\n",
       "      <td>...</td>\n",
       "      <td>...</td>\n",
       "      <td>...</td>\n",
       "      <td>...</td>\n",
       "      <td>...</td>\n",
       "    </tr>\n",
       "    <tr>\n",
       "      <th>62179</th>\n",
       "      <td>67348</td>\n",
       "      <td>5</td>\n",
       "      <td>1</td>\n",
       "      <td>0</td>\n",
       "      <td>61.07</td>\n",
       "      <td>0</td>\n",
       "      <td>1</td>\n",
       "    </tr>\n",
       "    <tr>\n",
       "      <th>62180</th>\n",
       "      <td>67955</td>\n",
       "      <td>5</td>\n",
       "      <td>1</td>\n",
       "      <td>0</td>\n",
       "      <td>61.07</td>\n",
       "      <td>0</td>\n",
       "      <td>1</td>\n",
       "    </tr>\n",
       "    <tr>\n",
       "      <th>62181</th>\n",
       "      <td>68560</td>\n",
       "      <td>5</td>\n",
       "      <td>1</td>\n",
       "      <td>0</td>\n",
       "      <td>56.71</td>\n",
       "      <td>0</td>\n",
       "      <td>1</td>\n",
       "    </tr>\n",
       "    <tr>\n",
       "      <th>62182</th>\n",
       "      <td>69167</td>\n",
       "      <td>5</td>\n",
       "      <td>1</td>\n",
       "      <td>0</td>\n",
       "      <td>56.71</td>\n",
       "      <td>0</td>\n",
       "      <td>1</td>\n",
       "    </tr>\n",
       "    <tr>\n",
       "      <th>62183</th>\n",
       "      <td>69771</td>\n",
       "      <td>5</td>\n",
       "      <td>1</td>\n",
       "      <td>0</td>\n",
       "      <td>56.71</td>\n",
       "      <td>0</td>\n",
       "      <td>1</td>\n",
       "    </tr>\n",
       "  </tbody>\n",
       "</table>\n",
       "<p>62184 rows × 7 columns</p>\n",
       "</div>"
      ],
      "text/plain": [
       "       timestamp  day_of_week  is_weekend  is_holiday  temperature  \\\n",
       "0          61211            4           0           0        71.76   \n",
       "1          62414            4           0           0        71.76   \n",
       "2          63015            4           0           0        71.76   \n",
       "3          63616            4           0           0        71.76   \n",
       "4          64217            4           0           0        71.76   \n",
       "...          ...          ...         ...         ...          ...   \n",
       "62179      67348            5           1           0        61.07   \n",
       "62180      67955            5           1           0        61.07   \n",
       "62181      68560            5           1           0        56.71   \n",
       "62182      69167            5           1           0        56.71   \n",
       "62183      69771            5           1           0        56.71   \n",
       "\n",
       "       is_start_of_semester  is_during_semester  \n",
       "0                         0                   0  \n",
       "1                         0                   0  \n",
       "2                         0                   0  \n",
       "3                         0                   0  \n",
       "4                         0                   0  \n",
       "...                     ...                 ...  \n",
       "62179                     0                   1  \n",
       "62180                     0                   1  \n",
       "62181                     0                   1  \n",
       "62182                     0                   1  \n",
       "62183                     0                   1  \n",
       "\n",
       "[62184 rows x 7 columns]"
      ]
     },
     "execution_count": 50,
     "metadata": {},
     "output_type": "execute_result"
    }
   ],
   "source": [
    "X=df.iloc[:,1:8]\n",
    "y = df.iloc[:, 0]"
   ]
  },
  {
   "cell_type": "code",
   "execution_count": null,
   "metadata": {},
   "outputs": [],
   "source": [
    "Standardization"
   ]
  },
  {
   "cell_type": "code",
   "execution_count": 54,
   "metadata": {},
   "outputs": [],
   "source": [
    "from sklearn.preprocessing import StandardScaler\n",
    "scaler = StandardScaler()\n",
    "scaled_X = scaler.fit_transform(X)\n"
   ]
  },
  {
   "cell_type": "code",
   "execution_count": 61,
   "metadata": {},
   "outputs": [
    {
     "data": {
      "text/plain": [
       "array([[-0.0358806 , -0.48666187, -1.81424321, ...,  0.19423672,\n",
       "         1.7452435 ,  0.87750703],\n",
       "       [-0.03601716, -0.50358608, -1.84922418, ...,  0.17183603,\n",
       "         1.72642302,  0.87742222],\n",
       "       [-0.03608538, -0.51204115, -1.86670012, ...,  0.160645  ,\n",
       "         1.7170206 ,  0.87737984],\n",
       "       ...,\n",
       "       [-1.81501988, -0.40713446, -0.40274896, ..., -0.06854136,\n",
       "        -1.09859421, -0.43860086],\n",
       "       [-1.81508878, -0.41567394, -0.42039937, ..., -0.07984411,\n",
       "        -1.1080905 , -0.43864366],\n",
       "       [-1.81515734, -0.42417122, -0.43796255, ..., -0.09109101,\n",
       "        -1.11753985, -0.43868624]])"
      ]
     },
     "execution_count": 61,
     "metadata": {},
     "output_type": "execute_result"
    }
   ],
   "source": [
    "from sklearn.decomposition import PCA\n",
    "\n",
    "PCA = PCA()\n",
    "PCA.fit_transform(scaled_X)"
   ]
  },
  {
   "cell_type": "markdown",
   "metadata": {},
   "source": [
    "Get the covariance"
   ]
  },
  {
   "cell_type": "code",
   "execution_count": 62,
   "metadata": {},
   "outputs": [
    {
     "data": {
      "text/plain": [
       "array([[ 1.00001608e+00, -1.79321968e-03, -5.08815704e-04,\n",
       "         2.85078360e-03,  1.84852463e-01,  9.55105884e-03,\n",
       "         4.46766172e-02],\n",
       "       [-1.79321968e-03,  1.00001608e+00,  7.91350923e-01,\n",
       "        -7.58632581e-02,  1.11689106e-02, -1.17822146e-02,\n",
       "        -4.82370614e-03],\n",
       "       [-5.08815704e-04,  7.91350923e-01,  1.00001608e+00,\n",
       "        -3.18993471e-02,  2.06736733e-02, -1.66460432e-02,\n",
       "        -3.61277725e-02],\n",
       "       [ 2.85078360e-03, -7.58632581e-02, -3.18993471e-02,\n",
       "         1.00001608e+00, -8.85280154e-02, -1.48581472e-02,\n",
       "        -7.07995743e-02],\n",
       "       [ 1.84852463e-01,  1.11689106e-02,  2.06736733e-02,\n",
       "        -8.85280154e-02,  1.00001608e+00,  9.32433629e-02,\n",
       "         1.52478347e-01],\n",
       "       [ 9.55105884e-03, -1.17822146e-02, -1.66460432e-02,\n",
       "        -1.48581472e-02,  9.32433629e-02,  1.00001608e+00,\n",
       "         2.09865473e-01],\n",
       "       [ 4.46766172e-02, -4.82370614e-03, -3.61277725e-02,\n",
       "        -7.07995743e-02,  1.52478347e-01,  2.09865473e-01,\n",
       "         1.00001608e+00]])"
      ]
     },
     "execution_count": 62,
     "metadata": {},
     "output_type": "execute_result"
    }
   ],
   "source": [
    "PCA.get_covariance()"
   ]
  },
  {
   "cell_type": "markdown",
   "metadata": {},
   "source": [
    "Explained Variance"
   ]
  },
  {
   "cell_type": "code",
   "execution_count": 64,
   "metadata": {},
   "outputs": [
    {
     "data": {
      "text/plain": [
       "array([0.25724101, 0.19763625, 0.15230994, 0.14118937, 0.11201237,\n",
       "       0.11008089, 0.02953017])"
      ]
     },
     "execution_count": 64,
     "metadata": {},
     "output_type": "execute_result"
    }
   ],
   "source": [
    "Explained_variance=PCA.explained_variance_ratio_\n",
    "Explained_variance"
   ]
  },
  {
   "cell_type": "markdown",
   "metadata": {},
   "source": [
    "Cumulative Sum"
   ]
  },
  {
   "cell_type": "code",
   "execution_count": 65,
   "metadata": {},
   "outputs": [
    {
     "name": "stdout",
     "output_type": "stream",
     "text": [
      "Cumulative sum of variance explained: \n",
      " [0.25724101 0.45487726 0.6071872  0.74837657 0.86038894 0.97046983\n",
      " 1.        ] \n",
      "\n"
     ]
    }
   ],
   "source": [
    "# Calculate the cumulative sum of variance explained\n",
    "cumulative_variance_explained = np.cumsum(Explained_variance)\n",
    "print(\"Cumulative sum of variance explained: \\n\",cumulative_variance_explained,\"\\n\")"
   ]
  },
  {
   "cell_type": "code",
   "execution_count": 67,
   "metadata": {},
   "outputs": [
    {
     "data": {
      "text/plain": [
       "Text(0.5, 1.0, 'Explained variance vs Number of components')"
      ]
     },
     "execution_count": 67,
     "metadata": {},
     "output_type": "execute_result"
    },
    {
     "data": {
      "image/png": "[encoded data removed]",
      "text/plain": [
       "<Figure size 864x576 with 1 Axes>"
      ]
     },
     "metadata": {},
     "output_type": "display_data"
    }
   ],
   "source": [
    "sns.lineplot(x = [1,2,3,4,5,6,7], y=cumulative_variance_explained)\n",
    "\n",
    "plt.xlabel(\"Number of components\")\n",
    "plt.ylabel(\"Cumulative explained variance\")\n",
    "\n",
    "plt.title(\"Explained variance vs Number of components\")"
   ]
  },
  {
   "cell_type": "code",
   "execution_count": null,
   "metadata": {},
   "outputs": [],
   "source": [
    "PCA Transformation & fitting with 6 components"
   ]
  },
  {
   "cell_type": "code",
   "execution_count": 71,
   "metadata": {},
   "outputs": [
    {
     "name": "stdout",
     "output_type": "stream",
     "text": [
      "Eigenvector: \n",
      " [[-0.00274834  0.00170695 -0.34060963 -0.70401245 -0.20402678 -0.45082698\n",
      "   0.37877327]\n",
      " [-0.70391892 -0.70695338 -0.00155813  0.03302462 -0.04734626  0.00370685\n",
      "   0.03696776]\n",
      " [-0.70212679  0.70538488  0.01946254  0.00874935 -0.09344307  0.01403306\n",
      "  -0.0081404 ]\n",
      " [ 0.09498507 -0.03880973  0.24411685 -0.07330173 -0.91346724  0.29463415\n",
      "  -0.05721691]\n",
      " [-0.03046349 -0.01838364 -0.55213258 -0.36000672  0.06092801  0.44765036\n",
      "  -0.60014643]\n",
      " [ 0.0271285  -0.00176265 -0.45760139  0.49820236 -0.32202183 -0.56967184\n",
      "  -0.33679703]\n",
      " [ 0.02867791  0.02826529 -0.55656213  0.34643284 -0.07461311  0.42990492\n",
      "   0.61499283]] \n",
      "\n",
      "Eigenvalues: \n",
      " [1.80071604 0.20671448 1.38347601 1.06618673 0.98834148 0.78409921\n",
      " 0.77057862] \n",
      "\n"
     ]
    }
   ],
   "source": [
    "# Eigendecomposition of the covariance\n",
    "# Sigma = W Lambda W^(-1)\n",
    "eigen_values, eigen_vectors = np.linalg.eig(PCA.get_covariance())\n",
    "print(\"Eigenvector: \\n\",eigen_vectors,\"\\n\")\n",
    "print(\"Eigenvalues: \\n\", eigen_values, \"\\n\")"
   ]
  },
  {
   "cell_type": "code",
   "execution_count": 72,
   "metadata": {},
   "outputs": [
    {
     "data": {
      "text/plain": [
       "array([[-0.00274834,  0.00170695, -0.34060963, -0.70401245, -0.20402678,\n",
       "        -0.45082698],\n",
       "       [-0.70391892, -0.70695338, -0.00155813,  0.03302462, -0.04734626,\n",
       "         0.00370685],\n",
       "       [-0.70212679,  0.70538488,  0.01946254,  0.00874935, -0.09344307,\n",
       "         0.01403306],\n",
       "       [ 0.09498507, -0.03880973,  0.24411685, -0.07330173, -0.91346724,\n",
       "         0.29463415],\n",
       "       [-0.03046349, -0.01838364, -0.55213258, -0.36000672,  0.06092801,\n",
       "         0.44765036],\n",
       "       [ 0.0271285 , -0.00176265, -0.45760139,  0.49820236, -0.32202183,\n",
       "        -0.56967184],\n",
       "       [ 0.02867791,  0.02826529, -0.55656213,  0.34643284, -0.07461311,\n",
       "         0.42990492]])"
      ]
     },
     "execution_count": 72,
     "metadata": {},
     "output_type": "execute_result"
    }
   ],
   "source": [
    "#Taking six (06) components and create a projection matrix\n",
    "projection_matrix = (eigen_vectors.T[:][:6]).T\n",
    "projection_matrix"
   ]
  },
  {
   "cell_type": "code",
   "execution_count": 73,
   "metadata": {},
   "outputs": [],
   "source": [
    "# PCA Transformation\n",
    "# Calculate the product of X (standardized original data multiply by eigenvectors)\n",
    "X_pca = X.dot(projection_matrix)"
   ]
  },
  {
   "cell_type": "code",
   "execution_count": 75,
   "metadata": {},
   "outputs": [
    {
     "data": {
      "text/html": [
       "<div>\n",
       "<style scoped>\n",
       "    .dataframe tbody tr th:only-of-type {\n",
       "        vertical-align: middle;\n",
       "    }\n",
       "\n",
       "    .dataframe tbody tr th {\n",
       "        vertical-align: top;\n",
       "    }\n",
       "\n",
       "    .dataframe thead th {\n",
       "        text-align: right;\n",
       "    }\n",
       "</style>\n",
       "<table border=\"1\" class=\"dataframe\">\n",
       "  <thead>\n",
       "    <tr style=\"text-align: right;\">\n",
       "      <th></th>\n",
       "      <th>0</th>\n",
       "      <th>1</th>\n",
       "      <th>2</th>\n",
       "      <th>3</th>\n",
       "      <th>4</th>\n",
       "      <th>5</th>\n",
       "    </tr>\n",
       "  </thead>\n",
       "  <tbody>\n",
       "    <tr>\n",
       "      <th>0</th>\n",
       "      <td>-173.230429</td>\n",
       "      <td>100.336973</td>\n",
       "      <td>-20888.683193</td>\n",
       "      <td>-43119.008200</td>\n",
       "      <td>-12484.500391</td>\n",
       "      <td>-27563.431812</td>\n",
       "    </tr>\n",
       "    <tr>\n",
       "      <th>1</th>\n",
       "      <td>-176.536683</td>\n",
       "      <td>102.390431</td>\n",
       "      <td>-21298.436576</td>\n",
       "      <td>-43965.935180</td>\n",
       "      <td>-12729.944606</td>\n",
       "      <td>-28105.776664</td>\n",
       "    </tr>\n",
       "    <tr>\n",
       "      <th>2</th>\n",
       "      <td>-178.188435</td>\n",
       "      <td>103.416307</td>\n",
       "      <td>-21503.142962</td>\n",
       "      <td>-44389.046663</td>\n",
       "      <td>-12852.564701</td>\n",
       "      <td>-28376.723677</td>\n",
       "    </tr>\n",
       "    <tr>\n",
       "      <th>3</th>\n",
       "      <td>-179.840188</td>\n",
       "      <td>104.442183</td>\n",
       "      <td>-21707.849348</td>\n",
       "      <td>-44812.158147</td>\n",
       "      <td>-12975.184795</td>\n",
       "      <td>-28647.670689</td>\n",
       "    </tr>\n",
       "    <tr>\n",
       "      <th>4</th>\n",
       "      <td>-181.491941</td>\n",
       "      <td>105.468059</td>\n",
       "      <td>-21912.555735</td>\n",
       "      <td>-45235.269631</td>\n",
       "      <td>-13097.804890</td>\n",
       "      <td>-28918.617702</td>\n",
       "    </tr>\n",
       "    <tr>\n",
       "      <th>5</th>\n",
       "      <td>-183.155575</td>\n",
       "      <td>106.486765</td>\n",
       "      <td>-22117.477453</td>\n",
       "      <td>-45658.521517</td>\n",
       "      <td>-13220.401222</td>\n",
       "      <td>-29189.390131</td>\n",
       "    </tr>\n",
       "    <tr>\n",
       "      <th>6</th>\n",
       "      <td>-186.426100</td>\n",
       "      <td>108.518033</td>\n",
       "      <td>-22522.802910</td>\n",
       "      <td>-46496.296336</td>\n",
       "      <td>-13463.193090</td>\n",
       "      <td>-29725.874232</td>\n",
       "    </tr>\n",
       "    <tr>\n",
       "      <th>7</th>\n",
       "      <td>-188.077853</td>\n",
       "      <td>109.543909</td>\n",
       "      <td>-22727.509296</td>\n",
       "      <td>-46919.407820</td>\n",
       "      <td>-13585.813185</td>\n",
       "      <td>-29996.821245</td>\n",
       "    </tr>\n",
       "    <tr>\n",
       "      <th>8</th>\n",
       "      <td>-189.740600</td>\n",
       "      <td>110.576612</td>\n",
       "      <td>-22933.578121</td>\n",
       "      <td>-47345.335353</td>\n",
       "      <td>-13709.249386</td>\n",
       "      <td>-30269.571565</td>\n",
       "    </tr>\n",
       "    <tr>\n",
       "      <th>9</th>\n",
       "      <td>-191.392352</td>\n",
       "      <td>111.602488</td>\n",
       "      <td>-23138.284507</td>\n",
       "      <td>-47768.446837</td>\n",
       "      <td>-13831.869481</td>\n",
       "      <td>-30540.518578</td>\n",
       "    </tr>\n",
       "  </tbody>\n",
       "</table>\n",
       "</div>"
      ],
      "text/plain": [
       "            0           1             2             3             4  \\\n",
       "0 -173.230429  100.336973 -20888.683193 -43119.008200 -12484.500391   \n",
       "1 -176.536683  102.390431 -21298.436576 -43965.935180 -12729.944606   \n",
       "2 -178.188435  103.416307 -21503.142962 -44389.046663 -12852.564701   \n",
       "3 -179.840188  104.442183 -21707.849348 -44812.158147 -12975.184795   \n",
       "4 -181.491941  105.468059 -21912.555735 -45235.269631 -13097.804890   \n",
       "5 -183.155575  106.486765 -22117.477453 -45658.521517 -13220.401222   \n",
       "6 -186.426100  108.518033 -22522.802910 -46496.296336 -13463.193090   \n",
       "7 -188.077853  109.543909 -22727.509296 -46919.407820 -13585.813185   \n",
       "8 -189.740600  110.576612 -22933.578121 -47345.335353 -13709.249386   \n",
       "9 -191.392352  111.602488 -23138.284507 -47768.446837 -13831.869481   \n",
       "\n",
       "              5  \n",
       "0 -27563.431812  \n",
       "1 -28105.776664  \n",
       "2 -28376.723677  \n",
       "3 -28647.670689  \n",
       "4 -28918.617702  \n",
       "5 -29189.390131  \n",
       "6 -29725.874232  \n",
       "7 -29996.821245  \n",
       "8 -30269.571565  \n",
       "9 -30540.518578  "
      ]
     },
     "execution_count": 75,
     "metadata": {},
     "output_type": "execute_result"
    }
   ],
   "source": [
    "#Print first 10 rows of X_pca\n",
    "X_pca[:10]"
   ]
  },
  {
   "cell_type": "code",
   "execution_count": null,
   "metadata": {},
   "outputs": [],
   "source": [
    "Conclusion: \n",
    "Based on the \"Explained variance vs Number of components\" we can see that for the first 06 components the cumulative explained variance is 97.04% (0.97046983). For the 7th component the explained variance is almost 03%. So, we can remove this component. This leave us with 6 principal components. \n",
    "\n",
    "Note: As the date column does not add any understandable correlation to me so I have dropped that column from the dataset."
   ]
  }
 ],
 "metadata": {
  "kernelspec": {
   "display_name": "Python 3",
   "language": "python",
   "name": "python3"
  },
  "language_info": {
   "codemirror_mode": {
    "name": "ipython",
    "version": 3
   },
   "file_extension": ".py",
   "mimetype": "text/x-python",
   "name": "python",
   "nbconvert_exporter": "python",
   "pygments_lexer": "ipython3",
   "version": "3.8.3"
  }
 },
 "nbformat": 4,
 "nbformat_minor": 4
}
